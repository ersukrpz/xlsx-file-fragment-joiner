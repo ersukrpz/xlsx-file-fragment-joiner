{
 "cells": [
  {
   "cell_type": "code",
   "execution_count": 1,
   "id": "67ed893d",
   "metadata": {},
   "outputs": [],
   "source": [
    "import xlsxwriter\n",
    "import pandas as pd"
   ]
  },
  {
   "cell_type": "code",
   "execution_count": 2,
   "id": "4794ad8f",
   "metadata": {},
   "outputs": [],
   "source": [
    "workbook = xlsxwriter.Workbook(\"dataset.xlsx\")"
   ]
  },
  {
   "cell_type": "code",
   "execution_count": 3,
   "id": "2ec26b1b",
   "metadata": {},
   "outputs": [],
   "source": [
    "worksheet = workbook.add_worksheet(\"worksheet\")"
   ]
  },
  {
   "cell_type": "code",
   "execution_count": 4,
   "id": "19589bb3",
   "metadata": {},
   "outputs": [],
   "source": [
    "rowIndex = 1"
   ]
  },
  {
   "cell_type": "code",
   "execution_count": 5,
   "id": "f2324631",
   "metadata": {},
   "outputs": [],
   "source": [
    "#Read Datasets\n",
    "\n",
    "dataset1 = pd.read_excel(\"NLP1_train_tweets.xlsx\", header=None)\n",
    "dataset1.columns = [\"Sentence\", \"Emotion\"]\n",
    "\n",
    "dataset2 = pd.read_excel(\"TREMODATA.xlsx\", header=None)\n",
    "dataset2.columns = [\"Sentence\", \"Emotion\"]"
   ]
  },
  {
   "cell_type": "code",
   "execution_count": 6,
   "id": "742562fd",
   "metadata": {},
   "outputs": [],
   "source": [
    "for i, cell in enumerate(dataset1[\"Sentence\"]):\n",
    "    worksheet.write('A' + str(rowIndex), cell)\n",
    "    rowIndex += 1"
   ]
  },
  {
   "cell_type": "code",
   "execution_count": 7,
   "id": "6cee7b2e",
   "metadata": {},
   "outputs": [],
   "source": [
    "for i, cell in enumerate(dataset2[\"Sentence\"]):\n",
    "    worksheet.write('A' + str(rowIndex), cell)\n",
    "    rowIndex += 1"
   ]
  },
  {
   "cell_type": "code",
   "execution_count": 8,
   "id": "e740d662",
   "metadata": {},
   "outputs": [],
   "source": [
    "for i, cell in enumerate(dataset2[\"Sentence\"]):\n",
    "    worksheet.write('A' + str(rowIndex), cell)\n",
    "    rowIndex += 1"
   ]
  },
  {
   "cell_type": "code",
   "execution_count": 9,
   "id": "21076ae7",
   "metadata": {},
   "outputs": [],
   "source": [
    "workbook.close()"
   ]
  },
  {
   "cell_type": "code",
   "execution_count": null,
   "id": "4093baf0",
   "metadata": {},
   "outputs": [],
   "source": []
  }
 ],
 "metadata": {
  "kernelspec": {
   "display_name": "Python 3 (ipykernel)",
   "language": "python",
   "name": "python3"
  },
  "language_info": {
   "codemirror_mode": {
    "name": "ipython",
    "version": 3
   },
   "file_extension": ".py",
   "mimetype": "text/x-python",
   "name": "python",
   "nbconvert_exporter": "python",
   "pygments_lexer": "ipython3",
   "version": "3.9.7"
  }
 },
 "nbformat": 4,
 "nbformat_minor": 5
}
